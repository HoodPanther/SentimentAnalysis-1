{
 "cells": [
  {
   "cell_type": "markdown",
   "metadata": {},
   "source": [
    "## Tweets about Trump and Clinton"
   ]
  },
  {
   "cell_type": "markdown",
   "metadata": {},
   "source": [
    "During the 2016 Presidential campaign, I collected a little over 270,000 tweets using the Twitter API and filtered for tweets that contained 'Trump', 'DonaldTrump', 'Hillary', 'Clinton', or 'HillaryClinton'.  The tweets were collected in July of 2016.\n",
    "\n",
    "I'll preprocess these tweets to do some exploratory analysis, look at the most common co-occurring words, and perform sentiment analysis."
   ]
  },
  {
   "cell_type": "markdown",
   "metadata": {},
   "source": [
    "Twitter parameters: https://dev.twitter.com/streaming/overview/request-parameters#track"
   ]
  },
  {
   "cell_type": "code",
   "execution_count": 3,
   "metadata": {
    "collapsed": false
   },
   "outputs": [],
   "source": [
    "%matplotlib inline\n",
    "import matplotlib.pyplot as plt\n",
    "import seaborn as sns\n",
    "from IPython.display import SVG \n",
    "import json\n",
    "import pandas as pd\n",
    "import numpy as np\n",
    "import re\n",
    "from nltk.corpus import stopwords\n",
    "import string\n",
    "from collections import Counter\n",
    "import operator\n",
    "import sqlalchemy\n",
    "import sqlite3 as sql\n",
    "import pickle\n",
    "import warnings\n",
    "warnings.filterwarnings(\"ignore\")"
   ]
  },
  {
   "cell_type": "code",
   "execution_count": 2,
   "metadata": {
    "collapsed": true
   },
   "outputs": [],
   "source": [
    "def add_column_for_name(df, names_list, text_column):\n",
    "    \"\"\"\n",
    "    Add column(s) that indicates whether name(s) is/are in text_column\n",
    "    Args:\n",
    "        df: pandas dataframe\n",
    "        names_list: list of strings (names) \n",
    "        text_column: column containing text\n",
    "    Returns:\n",
    "        df with column of Booleans \n",
    "    \"\"\"\n",
    "    for name in names_list:\n",
    "        mydf[name] = mydf['text'].apply(lambda tweet: word_in_text(name, tweet))\n",
    "    return df\n",
    "\n",
    "\n",
    "def remove_retweets(df, column, list_of_str):\n",
    "    \"\"\"\n",
    "    Function to remove tweets that contain string in list_of_str\n",
    "    \"\"\"\n",
    "    for string in list_of_str:\n",
    "        df = df[df['text'].str.contains(string)==False]\n",
    "    return df\n",
    "\n",
    "\n",
    "def print_val_counts_for_True(df, list_of_cols):\n",
    "    \"\"\"\n",
    "    Print number of Trues for columns in list_of_cols in dataframe df\n",
    "    \"\"\"\n",
    "    for name in list_of_cols:\n",
    "        print(name, df[name].value_counts()[True])\n",
    "\n",
    "        \n",
    "def word_in_text(word, text):\n",
    "    \"\"\"\n",
    "    Function to make text lower case and return True if a term is present,\n",
    "    False otherwise\n",
    "    \"\"\"\n",
    "    word = word.lower()\n",
    "    text = text.lower()\n",
    "    match = re.search(word, text)\n",
    "    if match:\n",
    "        return True\n",
    "    return False\n",
    "\n",
    "\n",
    "def lower_text(list_text):\n",
    "    \"\"\"\n",
    "    Make text lowercase\n",
    "    \"\"\"\n",
    "    new_list_text = []\n",
    "    for word in list_text:\n",
    "        new_word = word.lower() \n",
    "        new_list_text.append(new_word)\n",
    "    return new_list_text\n",
    "\n",
    "\n",
    "def extract_link(text):\n",
    "    \"\"\"\n",
    "    Extract links from tweets\n",
    "    \"\"\"\n",
    "    regex = r'https?://[^\\s<>\"]+|www\\.[^\\s<>\"]+'\n",
    "    match = re.search(regex, text)\n",
    "    if match:\n",
    "        return match.group()\n",
    "    return ''\n",
    "\n",
    "# Functions for tokenizing and preprocessing\n",
    "\n",
    "def tokenize(s):\n",
    "    return tokens_re.findall(s)\n",
    "\n",
    "\n",
    "def preprocess(s, lowercase = False):\n",
    "    tokens = tokenize(s)\n",
    "    if lowercase:\n",
    "        tokens = [token if emoticon_re.search(token) else token.lower() for token in tokens]\n",
    "    return tokens\n",
    "\n",
    "\n",
    "def tweet_tokenize(text):\n",
    "    \"\"\"\n",
    "    Tokenize text\n",
    "    \"\"\"\n",
    "    tweet_tokens = preprocess(text, lowercase = False)\n",
    "    return tweet_tokens\n",
    "\n",
    "\n",
    "def itertools_flatten(list_of_list):\n",
    "    \"\"\"\n",
    "    Flatten out list of lists\n",
    "    \"\"\"\n",
    "    from itertools import chain\n",
    "    return list(chain(*list_of_list))\n",
    "\n",
    "\n",
    "def most_frequent(terms_all, names_list):\n",
    "    \"\"\"\n",
    "    Returns most frequent terms, aside from stop words. terms_all is a list with all the terms\n",
    "    \"\"\"\n",
    "    count_all = Counter()\n",
    "    full_stop = stop + names_list\n",
    "    interesting_terms = [term for term in terms_all if term not in full_stop]\n",
    "    \n",
    "    # Update the counter\n",
    "    count_all.update(interesting_terms)\n",
    "    return count_all.most_common(20)\n",
    "\n",
    "def make_col_lowercase(df, list_of_cols):\n",
    "    \"\"\"\n",
    "    Function to get lowercase of columns in list_of_cols\n",
    "    Args:\n",
    "        df: pandas dataframe\n",
    "        list_of_cols: list of column names (string)\n",
    "    \"\"\"\n",
    "    for string in list_of_cols:\n",
    "        df['lower_'+ string] = df[string].apply(lambda tweet: lower_text(tweet))\n",
    "    return df"
   ]
  },
  {
   "cell_type": "code",
   "execution_count": 3,
   "metadata": {
    "collapsed": true
   },
   "outputs": [],
   "source": [
    "# Data is stored in an sqlite database. Reading sqlite query into a dataframe:\n",
    "conn = sql.connect('tweets.db')\n",
    "mydf = pd.read_sql_query('SELECT lang, text FROM lang_text', conn)\n",
    "conn.close()"
   ]
  },
  {
   "cell_type": "code",
   "execution_count": 4,
   "metadata": {
    "collapsed": false
   },
   "outputs": [
    {
     "data": {
      "text/plain": [
       "lang    278713\n",
       "text    278713\n",
       "dtype: int64"
      ]
     },
     "execution_count": 4,
     "metadata": {},
     "output_type": "execute_result"
    }
   ],
   "source": [
    "mydf.count()"
   ]
  },
  {
   "cell_type": "code",
   "execution_count": 5,
   "metadata": {
    "collapsed": false
   },
   "outputs": [
    {
     "data": {
      "text/plain": [
       "count     278713\n",
       "unique    132656\n",
       "top             \n",
       "freq       12012\n",
       "Name: text, dtype: object"
      ]
     },
     "execution_count": 5,
     "metadata": {},
     "output_type": "execute_result"
    }
   ],
   "source": [
    "mydf['text'].describe()"
   ]
  },
  {
   "cell_type": "markdown",
   "metadata": {},
   "source": [
    "#### Adding columns that show whether the tweet contains a name of interest"
   ]
  },
  {
   "cell_type": "markdown",
   "metadata": {},
   "source": [
    "I decided to add columns of Booleans that indicated whether a name was in the tweet or not.\n",
    "\n",
    "I'm also interested in weeding out tweets that might be about Bill Clinton.  \n",
    "Of course, while doing this I might be taking out tweets that are about the other kind of bill (legislative), but I'm going to assume that's a negligible number."
   ]
  },
  {
   "cell_type": "code",
   "execution_count": 8,
   "metadata": {
    "collapsed": false
   },
   "outputs": [
    {
     "name": "stdout",
     "output_type": "stream",
     "text": [
      "trump 127268\n",
      "donaldtrump 15999\n",
      "hillary 94226\n",
      "clinton 82198\n",
      "hillaryclinton 23025\n"
     ]
    }
   ],
   "source": [
    "# Add columns for names of interest\n",
    "names_list = ['trump','hillary','clinton','donaldtrump','hillaryclinton','bill']\n",
    "add_column_for_name(mydf, names_list ,'text')\n",
    "\n",
    "# Count number of Trues for columns in list_of_cols\n",
    "list_of_cols = ['trump', 'donaldtrump', 'hillary', 'clinton', 'hillaryclinton']\n",
    "print_val_counts_for_True(mydf, list_of_cols)"
   ]
  },
  {
   "cell_type": "markdown",
   "metadata": {},
   "source": [
    "#### Some cleanup: removing retweets"
   ]
  },
  {
   "cell_type": "code",
   "execution_count": 9,
   "metadata": {
    "collapsed": false
   },
   "outputs": [
    {
     "data": {
      "text/plain": [
       "132656"
      ]
     },
     "execution_count": 9,
     "metadata": {},
     "output_type": "execute_result"
    }
   ],
   "source": [
    "# Return df with duplicates removed. \n",
    "unique_tweets = mydf.drop_duplicates(inplace=False, subset='text')\n",
    "\n",
    "len(unique_tweets)"
   ]
  },
  {
   "cell_type": "code",
   "execution_count": 10,
   "metadata": {
    "collapsed": false
   },
   "outputs": [
    {
     "data": {
      "text/html": [
       "<div>\n",
       "<table border=\"1\" class=\"dataframe\">\n",
       "  <thead>\n",
       "    <tr style=\"text-align: right;\">\n",
       "      <th></th>\n",
       "      <th>lang</th>\n",
       "      <th>text</th>\n",
       "      <th>trump</th>\n",
       "      <th>hillary</th>\n",
       "      <th>clinton</th>\n",
       "      <th>donaldtrump</th>\n",
       "      <th>hillaryclinton</th>\n",
       "    </tr>\n",
       "  </thead>\n",
       "  <tbody>\n",
       "    <tr>\n",
       "      <th>0</th>\n",
       "      <td>en</td>\n",
       "      <td>PROTEST WITH YOUR VOTE ITs TRUMP OR NEVER THE ...</td>\n",
       "      <td>True</td>\n",
       "      <td>False</td>\n",
       "      <td>False</td>\n",
       "      <td>False</td>\n",
       "      <td>False</td>\n",
       "    </tr>\n",
       "    <tr>\n",
       "      <th>1</th>\n",
       "      <td>pt</td>\n",
       "      <td>@lanadynamite ata mas trump não</td>\n",
       "      <td>True</td>\n",
       "      <td>False</td>\n",
       "      <td>False</td>\n",
       "      <td>False</td>\n",
       "      <td>False</td>\n",
       "    </tr>\n",
       "    <tr>\n",
       "      <th>2</th>\n",
       "      <td>pt</td>\n",
       "      <td>Republicanos entram com pedido formal para nov...</td>\n",
       "      <td>False</td>\n",
       "      <td>True</td>\n",
       "      <td>False</td>\n",
       "      <td>False</td>\n",
       "      <td>False</td>\n",
       "    </tr>\n",
       "    <tr>\n",
       "      <th>3</th>\n",
       "      <td>en</td>\n",
       "      <td>@CassandraRules @Iteration23 They should be fa...</td>\n",
       "      <td>True</td>\n",
       "      <td>False</td>\n",
       "      <td>False</td>\n",
       "      <td>False</td>\n",
       "      <td>False</td>\n",
       "    </tr>\n",
       "    <tr>\n",
       "      <th>4</th>\n",
       "      <td>en</td>\n",
       "      <td>Donald Trump bought US$120,000 trip and dinner...</td>\n",
       "      <td>True</td>\n",
       "      <td>False</td>\n",
       "      <td>False</td>\n",
       "      <td>False</td>\n",
       "      <td>False</td>\n",
       "    </tr>\n",
       "  </tbody>\n",
       "</table>\n",
       "</div>"
      ],
      "text/plain": [
       "  lang                                               text  trump hillary  \\\n",
       "0   en  PROTEST WITH YOUR VOTE ITs TRUMP OR NEVER THE ...   True   False   \n",
       "1   pt                    @lanadynamite ata mas trump não   True   False   \n",
       "2   pt  Republicanos entram com pedido formal para nov...  False    True   \n",
       "3   en  @CassandraRules @Iteration23 They should be fa...   True   False   \n",
       "4   en  Donald Trump bought US$120,000 trip and dinner...   True   False   \n",
       "\n",
       "  clinton donaldtrump hillaryclinton  \n",
       "0   False       False          False  \n",
       "1   False       False          False  \n",
       "2   False       False          False  \n",
       "3   False       False          False  \n",
       "4   False       False          False  "
      ]
     },
     "execution_count": 10,
     "metadata": {},
     "output_type": "execute_result"
    }
   ],
   "source": [
    "# Remove retweets\n",
    "list_of_str = ['RT', 'rt', ' RT ']\n",
    "originals = remove_retweets(unique_tweets, 'text', list_of_str)\n",
    "\n",
    "originals = originals.reset_index(drop = True)\n",
    "originals.head()"
   ]
  },
  {
   "cell_type": "code",
   "execution_count": 11,
   "metadata": {
    "collapsed": false
   },
   "outputs": [
    {
     "data": {
      "text/plain": [
       "95923"
      ]
     },
     "execution_count": 11,
     "metadata": {},
     "output_type": "execute_result"
    }
   ],
   "source": [
    "len(originals)"
   ]
  },
  {
   "cell_type": "markdown",
   "metadata": {},
   "source": [
    "#### Counting names"
   ]
  },
  {
   "cell_type": "code",
   "execution_count": 14,
   "metadata": {
    "collapsed": false
   },
   "outputs": [
    {
     "name": "stdout",
     "output_type": "stream",
     "text": [
      "trump 47493\n",
      "donaldtrump 5241\n",
      "hillary 31054\n",
      "clinton 27664\n",
      "hillaryclinton 7391\n",
      "bill 1453\n"
     ]
    }
   ],
   "source": [
    "# Count number of Trues for columns in list_of_cols again, now with 'bill'\n",
    "list_of_cols = ['trump', 'donaldtrump', 'hillary', 'clinton', 'hillaryclinton', 'bill']\n",
    "print_val_counts_for_True(originals, list_of_cols)"
   ]
  },
  {
   "cell_type": "code",
   "execution_count": 15,
   "metadata": {
    "collapsed": false
   },
   "outputs": [],
   "source": [
    "originals['just_trump'] = np.where((originals['trump']==True) & (originals['donaldtrump']== False), True, False)\n",
    "\n",
    "originals['just_clinton'] = np.where((originals['hillary']==False) & (originals['clinton']== True) &\n",
    "                                    (originals['hillaryclinton']==False) & (originals['trump']==False) &\n",
    "                                    (originals['donaldtrump']==False), True, False)\n",
    "\n",
    "originals['just_hillary'] = np.where((originals['hillary']==True) & (originals['clinton']== False) &\n",
    "                                    (originals['hillaryclinton']==False) & (originals['trump']==False) &\n",
    "                                    (originals['donaldtrump']==False), True, False)\n",
    "\n",
    "\n",
    "originals['Any_Clinton'] = np.where((originals['trump']== False) & (originals['donaldtrump']==False), True, False)\n",
    "\n",
    "originals['Any_Clinton_no_bill'] = np.where((originals['trump']== False) & (originals['donaldtrump']==False) & \n",
    "                                            (originals['bill']==False), True, False)\n",
    "\n",
    "originals['Any_Trump'] = np.where((originals['hillary']==False) & (originals['clinton']== False) & \n",
    "                                  (originals['hillaryclinton']==False), True, False)"
   ]
  },
  {
   "cell_type": "markdown",
   "metadata": {},
   "source": [
    "#### Extract links"
   ]
  },
  {
   "cell_type": "code",
   "execution_count": 16,
   "metadata": {
    "collapsed": true
   },
   "outputs": [],
   "source": [
    "originals['link'] = originals['text'].apply(extract_link)"
   ]
  },
  {
   "cell_type": "code",
   "execution_count": 17,
   "metadata": {
    "collapsed": false
   },
   "outputs": [
    {
     "name": "stdout",
     "output_type": "stream",
     "text": [
      "trump 47493\n",
      "donaldtrump 5241\n",
      "just_trump 42252\n",
      "hillary 31054\n",
      "clinton 27664\n",
      "hillaryclinton 7391\n",
      "just_hillary 10727\n",
      "just_clinton 8965\n",
      "Any_Trump 53400\n",
      "Any_Clinton 48430\n",
      "Any_Clinton_no_bill 47394\n"
     ]
    }
   ],
   "source": [
    "# Getting value counts for names\n",
    "list_of_cols = ['trump', 'donaldtrump', 'just_trump','hillary', 'clinton', 'hillaryclinton', \n",
    "                'just_hillary','just_clinton','Any_Trump','Any_Clinton','Any_Clinton_no_bill']\n",
    "\n",
    "print_val_counts_for_True(originals, list_of_cols)"
   ]
  },
  {
   "cell_type": "markdown",
   "metadata": {},
   "source": [
    "#### A plot for counts for names of interest"
   ]
  },
  {
   "cell_type": "code",
   "execution_count": 107,
   "metadata": {
    "collapsed": false
   },
   "outputs": [
    {
     "data": {
      "image/png": "[encoded data removed]",
      "text/plain": [
       "<matplotlib.figure.Figure at 0x13fd070f0>"
      ]
     },
     "metadata": {},
     "output_type": "display_data"
    }
   ],
   "source": [
    "names = ['Trump', 'DonaldTrump', 'Hillary', 'Clinton', 'HillaryClinton']\n",
    "tweets_by_name = [originals['trump'].value_counts()[True], originals['donaldtrump'].value_counts()[True], originals['hillary'].value_counts()[True], originals['clinton'].value_counts()[True], originals['hillaryclinton'].value_counts()[True]]\n",
    "x_pos = list(range(len(names)))\n",
    "width = 0.8\n",
    "fig, ax = plt.subplots()\n",
    "plt.bar(x_pos, tweets_by_name, width, alpha=1, color='g')\n",
    "ax.set_ylabel('Number of tweets', fontsize=15)\n",
    "ax.set_title('Counts for names of interest', fontsize=15, fontweight='bold')\n",
    "ax.set_xticks([p + 0.4 * width for p in x_pos])\n",
    "ax.set_xticklabels(names)\n",
    "plt.grid()\n",
    "plt.savefig('tweet_by_name_1', format='png')"
   ]
  },
  {
   "cell_type": "code",
   "execution_count": 151,
   "metadata": {
    "collapsed": false
   },
   "outputs": [
    {
     "data": {
      "image/png": "[encoded data removed]",
      "text/plain": [
       "<matplotlib.figure.Figure at 0x1282ec9b0>"
      ]
     },
     "metadata": {},
     "output_type": "display_data"
    }
   ],
   "source": [
    "# Term frequencies for any Trump tweets and any Hillary or Clinton tweets, but not ones that have both\n",
    "names = ['Any Trump', 'Any Clinton']\n",
    "tweets_by_name = [originals['Any_Trump'].value_counts()[True], originals['Any_Clinton'].value_counts()[True]]\n",
    "x_pos = list(range(len(names)))\n",
    "width = 0.8\n",
    "fig, ax = plt.subplots()\n",
    "plt.bar(x_pos, tweets_by_name, width, alpha=1, color='g')\n",
    "ax.set_ylabel('Number of tweets', fontsize=15)\n",
    "ax.set_title('Trump vs. Clinton', fontsize=15, fontweight='bold')\n",
    "ax.set_xticks([p + 0.5 * width for p in x_pos])\n",
    "ax.set_xticklabels(names)\n",
    "plt.grid()\n",
    "plt.savefig('tweet_by_name_1', format='png')"
   ]
  },
  {
   "cell_type": "code",
   "execution_count": 110,
   "metadata": {
    "collapsed": false
   },
   "outputs": [
    {
     "data": {
      "image/png": "[encoded data removed]",
      "text/plain": [
       "<matplotlib.figure.Figure at 0x13fd07f60>"
      ]
     },
     "metadata": {},
     "output_type": "display_data"
    }
   ],
   "source": [
    "# Term frequencies for any Trump tweets and any Hillary or Clinton tweets, except the ones that contain 'Bill'\n",
    "names = ['Any Trump', 'Any Clinton but Bill']\n",
    "tweets_by_name = [originals['Any_Trump'].value_counts()[True], originals['Any_Clinton_no_bill'].value_counts()[True]]\n",
    "x_pos = list(range(len(names)))\n",
    "width = 0.8\n",
    "fig, ax = plt.subplots()\n",
    "plt.bar(x_pos, tweets_by_name, width, alpha=1, color='g')\n",
    "ax.set_ylabel('Number of tweets', fontsize=15)\n",
    "ax.set_title('Trump vs. Clinton (no Bill)', fontsize=15, fontweight='bold')\n",
    "ax.set_xticks([p + 0.5 * width for p in x_pos])\n",
    "ax.set_xticklabels(names)\n",
    "plt.grid()\n",
    "plt.savefig('tweet_by_name_1', format='png')"
   ]
  },
  {
   "cell_type": "markdown",
   "metadata": {},
   "source": [
    "#### Languages"
   ]
  },
  {
   "cell_type": "code",
   "execution_count": 111,
   "metadata": {
    "collapsed": false
   },
   "outputs": [
    {
     "data": {
      "text/plain": [
       "<matplotlib.axes._subplots.AxesSubplot at 0x1446f6a58>"
      ]
     },
     "execution_count": 111,
     "metadata": {},
     "output_type": "execute_result"
    },
    {
     "data": {
      "image/png": "[encoded data removed]",
      "text/plain": [
       "<matplotlib.figure.Figure at 0x13fd10588>"
      ]
     },
     "metadata": {},
     "output_type": "display_data"
    }
   ],
   "source": [
    "# Tweets by language\n",
    "tweets_by_lang = originals['lang'].value_counts() #get the counts for the lang column\n",
    "fig, ax = plt.subplots()\n",
    "ax.tick_params(axis = 'x', labelsize=15)\n",
    "ax.tick_params(axis = 'y', labelsize=10)\n",
    "ax.set_xlabel('Languages', fontsize=15)\n",
    "ax.set_ylabel('Number of tweets' , fontsize=15)\n",
    "ax.set_title('Top 5 languages', fontsize=15, fontweight='bold')\n",
    "tweets_by_lang[:5].plot(ax=ax, kind='bar', color='red')"
   ]
  },
  {
   "cell_type": "markdown",
   "metadata": {},
   "source": [
    "#### Pre-processing tweets"
   ]
  },
  {
   "cell_type": "code",
   "execution_count": 114,
   "metadata": {
    "collapsed": false
   },
   "outputs": [],
   "source": [
    "# For pre-processing emoticons, @-mentions, hash-tags, URLs\n",
    "\n",
    "emoticons_str = r\"\"\"\n",
    "    (?:\n",
    "        [:=;] # Eyes\n",
    "        [oO\\-]? # Nose (optional)\n",
    "        [D\\)\\]\\(\\]/\\\\OpP] # Mouth\n",
    "    )\"\"\"\n",
    " \n",
    "regex_str = [\n",
    "    emoticons_str,\n",
    "    r'<[^>]+>', # HTML tags\n",
    "    r'(?:@[\\w_]+)', # @-mentions\n",
    "    r\"(?:\\#+[\\w_]+[\\w\\'_\\-]*[\\w_]+)\", # hash-tags\n",
    "    r'http[s]?://(?:[a-z]|[0-9]|[$-_@.&+]|[!*\\(\\),]|(?:%[0-9a-f][0-9a-f]))+', # URLs\n",
    " \n",
    "    r'(?:(?:\\d+,?)+(?:\\.?\\d+)?)', # numbers\n",
    "    r\"(?:[a-z][a-z'\\-_]+[a-z])\", # words with - and '\n",
    "    r'(?:[\\w_]+)', # other words\n",
    "    r'(?:\\S)' # anything else\n",
    "]\n",
    "\n",
    "# re.compile compiles a regex pattern into a regex object that can be used for match or search\n",
    "\n",
    "tokens_re = re.compile(r'('+'|'.join(regex_str)+')', re.VERBOSE | re.IGNORECASE)\n",
    "emoticon_re = re.compile(r'^'+emoticons_str+'$', re.VERBOSE | re.IGNORECASE)\n",
    "\n",
    "# Add column of tokenized tweets\n",
    "originals['tweet_tokens'] = originals['text'].apply(lambda tweet: tweet_tokenize(tweet))"
   ]
  },
  {
   "cell_type": "markdown",
   "metadata": {},
   "source": [
    "#### Adding columns for tokens"
   ]
  },
  {
   "cell_type": "code",
   "execution_count": 115,
   "metadata": {
    "collapsed": false
   },
   "outputs": [
    {
     "data": {
      "text/plain": [
       "0    [PROTEST, WITH, YOUR, VOTE, ITs, TRUMP, OR, NE...\n",
       "1                [@lanadynamite, ata, mas, trump, não]\n",
       "2    [Republicanos, entram, com, pedido, formal, pa...\n",
       "3    [@CassandraRules, @Iteration23, They, should, ...\n",
       "4    [Donald, Trump, bought, US, $, 120,000, trip, ...\n",
       "Name: tweet_tokens, dtype: object"
      ]
     },
     "execution_count": 115,
     "metadata": {},
     "output_type": "execute_result"
    }
   ],
   "source": [
    "originals['tweet_tokens'].head()"
   ]
  },
  {
   "cell_type": "code",
   "execution_count": 116,
   "metadata": {
    "collapsed": false
   },
   "outputs": [
    {
     "data": {
      "text/html": [
       "<div>\n",
       "<table border=\"1\" class=\"dataframe\">\n",
       "  <thead>\n",
       "    <tr style=\"text-align: right;\">\n",
       "      <th></th>\n",
       "      <th>lang</th>\n",
       "      <th>text</th>\n",
       "      <th>trump</th>\n",
       "      <th>hillary</th>\n",
       "      <th>clinton</th>\n",
       "      <th>donaldtrump</th>\n",
       "      <th>hillaryclinton</th>\n",
       "      <th>bill</th>\n",
       "      <th>just_trump</th>\n",
       "      <th>just_clinton</th>\n",
       "      <th>just_hillary</th>\n",
       "      <th>Any_Clinton</th>\n",
       "      <th>Any_Clinton_no_bill</th>\n",
       "      <th>Any_Trump</th>\n",
       "      <th>tweet_tokens</th>\n",
       "      <th>just_trump_tokens</th>\n",
       "      <th>just_clinton_tokens</th>\n",
       "    </tr>\n",
       "  </thead>\n",
       "  <tbody>\n",
       "    <tr>\n",
       "      <th>0</th>\n",
       "      <td>en</td>\n",
       "      <td>PROTEST WITH YOUR VOTE ITs TRUMP OR NEVER THE ...</td>\n",
       "      <td>True</td>\n",
       "      <td>False</td>\n",
       "      <td>False</td>\n",
       "      <td>False</td>\n",
       "      <td>False</td>\n",
       "      <td>False</td>\n",
       "      <td>True</td>\n",
       "      <td>False</td>\n",
       "      <td>False</td>\n",
       "      <td>False</td>\n",
       "      <td>False</td>\n",
       "      <td>True</td>\n",
       "      <td>[PROTEST, WITH, YOUR, VOTE, ITs, TRUMP, OR, NE...</td>\n",
       "      <td>[PROTEST, WITH, YOUR, VOTE, ITs, TRUMP, OR, NE...</td>\n",
       "      <td></td>\n",
       "    </tr>\n",
       "    <tr>\n",
       "      <th>1</th>\n",
       "      <td>pt</td>\n",
       "      <td>@lanadynamite ata mas trump não</td>\n",
       "      <td>True</td>\n",
       "      <td>False</td>\n",
       "      <td>False</td>\n",
       "      <td>False</td>\n",
       "      <td>False</td>\n",
       "      <td>False</td>\n",
       "      <td>True</td>\n",
       "      <td>False</td>\n",
       "      <td>False</td>\n",
       "      <td>False</td>\n",
       "      <td>False</td>\n",
       "      <td>True</td>\n",
       "      <td>[@lanadynamite, ata, mas, trump, não]</td>\n",
       "      <td></td>\n",
       "      <td></td>\n",
       "    </tr>\n",
       "    <tr>\n",
       "      <th>2</th>\n",
       "      <td>pt</td>\n",
       "      <td>Republicanos entram com pedido formal para nov...</td>\n",
       "      <td>False</td>\n",
       "      <td>True</td>\n",
       "      <td>False</td>\n",
       "      <td>False</td>\n",
       "      <td>False</td>\n",
       "      <td>False</td>\n",
       "      <td>False</td>\n",
       "      <td>False</td>\n",
       "      <td>True</td>\n",
       "      <td>True</td>\n",
       "      <td>True</td>\n",
       "      <td>False</td>\n",
       "      <td>[Republicanos, entram, com, pedido, formal, pa...</td>\n",
       "      <td></td>\n",
       "      <td></td>\n",
       "    </tr>\n",
       "    <tr>\n",
       "      <th>3</th>\n",
       "      <td>en</td>\n",
       "      <td>@CassandraRules @Iteration23 They should be fa...</td>\n",
       "      <td>True</td>\n",
       "      <td>False</td>\n",
       "      <td>False</td>\n",
       "      <td>False</td>\n",
       "      <td>False</td>\n",
       "      <td>False</td>\n",
       "      <td>True</td>\n",
       "      <td>False</td>\n",
       "      <td>False</td>\n",
       "      <td>False</td>\n",
       "      <td>False</td>\n",
       "      <td>True</td>\n",
       "      <td>[@CassandraRules, @Iteration23, They, should, ...</td>\n",
       "      <td>[@CassandraRules, @Iteration23, They, should, ...</td>\n",
       "      <td></td>\n",
       "    </tr>\n",
       "    <tr>\n",
       "      <th>4</th>\n",
       "      <td>en</td>\n",
       "      <td>Donald Trump bought US$120,000 trip and dinner...</td>\n",
       "      <td>True</td>\n",
       "      <td>False</td>\n",
       "      <td>False</td>\n",
       "      <td>False</td>\n",
       "      <td>False</td>\n",
       "      <td>False</td>\n",
       "      <td>True</td>\n",
       "      <td>False</td>\n",
       "      <td>False</td>\n",
       "      <td>False</td>\n",
       "      <td>False</td>\n",
       "      <td>True</td>\n",
       "      <td>[Donald, Trump, bought, US, $, 120,000, trip, ...</td>\n",
       "      <td>[Donald, Trump, bought, US, $, 120,000, trip, ...</td>\n",
       "      <td></td>\n",
       "    </tr>\n",
       "  </tbody>\n",
       "</table>\n",
       "</div>"
      ],
      "text/plain": [
       "  lang                                               text  trump hillary  \\\n",
       "0   en  PROTEST WITH YOUR VOTE ITs TRUMP OR NEVER THE ...   True   False   \n",
       "1   pt                    @lanadynamite ata mas trump não   True   False   \n",
       "2   pt  Republicanos entram com pedido formal para nov...  False    True   \n",
       "3   en  @CassandraRules @Iteration23 They should be fa...   True   False   \n",
       "4   en  Donald Trump bought US$120,000 trip and dinner...   True   False   \n",
       "\n",
       "  clinton donaldtrump hillaryclinton   bill just_trump just_clinton  \\\n",
       "0   False       False          False  False       True        False   \n",
       "1   False       False          False  False       True        False   \n",
       "2   False       False          False  False      False        False   \n",
       "3   False       False          False  False       True        False   \n",
       "4   False       False          False  False       True        False   \n",
       "\n",
       "  just_hillary Any_Clinton Any_Clinton_no_bill Any_Trump  \\\n",
       "0        False       False               False      True   \n",
       "1        False       False               False      True   \n",
       "2         True        True                True     False   \n",
       "3        False       False               False      True   \n",
       "4        False       False               False      True   \n",
       "\n",
       "                                        tweet_tokens  \\\n",
       "0  [PROTEST, WITH, YOUR, VOTE, ITs, TRUMP, OR, NE...   \n",
       "1              [@lanadynamite, ata, mas, trump, não]   \n",
       "2  [Republicanos, entram, com, pedido, formal, pa...   \n",
       "3  [@CassandraRules, @Iteration23, They, should, ...   \n",
       "4  [Donald, Trump, bought, US, $, 120,000, trip, ...   \n",
       "\n",
       "                                   just_trump_tokens just_clinton_tokens  \n",
       "0  [PROTEST, WITH, YOUR, VOTE, ITs, TRUMP, OR, NE...                      \n",
       "1                                                                         \n",
       "2                                                                         \n",
       "3  [@CassandraRules, @Iteration23, They, should, ...                      \n",
       "4  [Donald, Trump, bought, US, $, 120,000, trip, ...                      "
      ]
     },
     "execution_count": 116,
     "metadata": {},
     "output_type": "execute_result"
    }
   ],
   "source": [
    "# Adding a column for the tokens and also selecting for just the English ones\n",
    "originals['just_trump_tokens'] = np.where((originals['lang']== 'en') & \n",
    "                                          (originals['Any_Trump'] ==True), originals['tweet_tokens'], '')\n",
    "\n",
    "originals['just_clinton_tokens'] = np.where((originals['lang']== 'en') & \n",
    "                                            (originals['Any_Clinton_no_bill'] ==True), originals['tweet_tokens'], '')\n",
    "originals.head()"
   ]
  },
  {
   "cell_type": "code",
   "execution_count": 119,
   "metadata": {
    "collapsed": false
   },
   "outputs": [],
   "source": [
    "eng_trump_tokens = originals['just_trump_tokens'].values.tolist()\n",
    "eng_clinton_tokens = originals['just_clinton_tokens'].values.tolist()\n",
    "\n",
    "trump_list = itertools_flatten(eng_trump_tokens)\n",
    "clinton_list = itertools_flatten(eng_clinton_tokens)\n",
    "\n",
    "trump_list = [x.lower() for x in trump_list]\n",
    "clinton_list = [x.lower() for x in clinton_list]"
   ]
  },
  {
   "cell_type": "code",
   "execution_count": null,
   "metadata": {
    "collapsed": true
   },
   "outputs": [],
   "source": [
    "list_of_cols = ['tweet_tokens', 'just_trump_tokens', 'just_clinton_tokens']\n",
    "originals = make_col_lowercase(originals, list_of_cols)"
   ]
  },
  {
   "cell_type": "markdown",
   "metadata": {},
   "source": [
    "#### Getting ready to count most frequent words by getting rid of stopwords, punctuation"
   ]
  },
  {
   "cell_type": "code",
   "execution_count": 137,
   "metadata": {
    "collapsed": true
   },
   "outputs": [],
   "source": [
    "# string.punctuation gives string of ASCI chars which are considered punctuation chars \n",
    "punctuation = list(string.punctuation)\n",
    "more_punctuation = [\"’\", \"‘\"]\n",
    "\n",
    "# A custom list of stopwords\n",
    "more_stops = [\"el\", \"don't\", \"it's\", \"get\", \"via\", \"rt\", \"de\", \"would\", \"make\", \"i'm\", \"2\", \n",
    "              \"he's\", \"one\", \"says\",\"amp\", \"say\", \"us\", \"u\"]\n",
    "\n",
    "# The full stop list contains English stopwords, as well as my custom list of stopwords and punctuation to remove\n",
    "stop = stopwords.words('english') + punctuation + more_punctuation + more_stops\n",
    "\n",
    "trump_names_list = ['trump', 'donald', 'donaldtrump', '#trump', '@realdonaldtrump', \"trump's\"]\n",
    "clinton_names_list= ['clinton', 'hillary', 'hillaryclinton', '@hillaryclinton']"
   ]
  },
  {
   "cell_type": "markdown",
   "metadata": {},
   "source": [
    "#### Most frequent words associated with both candidates"
   ]
  },
  {
   "cell_type": "code",
   "execution_count": 142,
   "metadata": {
    "collapsed": false
   },
   "outputs": [
    {
     "name": "stdout",
     "output_type": "stream",
     "text": [
      "[('bernie', 6154), ('sanders', 5127), ('endorses', 1906), ('@berniesanders', 1710), ('like', 1663), ('president', 1355), ('lynch', 1323), ('vote', 1318), ('people', 1085), ('fbi', 1078), ('know', 1040), ('supporters', 1038), ('endorsement', 1005), ('democratic', 956), ('voting', 913), ('endorsed', 909), ('endorsing', 877), ('think', 800), ('email', 793), ('support', 746)]\n"
     ]
    }
   ],
   "source": [
    "print(most_frequent(clinton_list, clinton_names_list))"
   ]
  },
  {
   "cell_type": "code",
   "execution_count": 143,
   "metadata": {
    "collapsed": false
   },
   "outputs": [
    {
     "name": "stdout",
     "output_type": "stream",
     "text": [
      "[('vp', 3138), ('like', 2219), ('pence', 1968), ('ginsburg', 1828), ('vote', 1724), ('gop', 1686), ('people', 1351), ('gingrich', 1317), ('bernie', 1316), ('news', 1227), ('ruth', 1202), ('president', 1167), ('bader', 1134), ('support', 1067), ('convention', 1064), ('think', 1045), ('republican', 1041), ('ryan', 1017), ('newt', 984), ('wall', 968)]\n"
     ]
    }
   ],
   "source": [
    "most_frequent_trump =(most_frequent(trump_list, trump_names_list))\n",
    "print(most_frequent_trump)"
   ]
  },
  {
   "cell_type": "markdown",
   "metadata": {},
   "source": [
    "### Words that co-occurred most frequently with Clinton:"
   ]
  },
  {
   "cell_type": "code",
   "execution_count": 4,
   "metadata": {
    "collapsed": false,
    "scrolled": true
   },
   "outputs": [
    {
     "data": {
      "image/svg+xml": [
       "<svg height=\"600\" version=\"1.1\" width=\"960\" xmlns=\"http://www.w3.org/2000/svg\"><g/><g transform=\"translate(480,300)scale(1.0416666269302368,1.0416666269302368)\"><text style=\"font-size: 10px; font-family: Impact; fill: rgb(206, 109, 189);\" text-anchor=\"middle\" transform=\"translate(50,-145)rotate(-59.99999999999999)\">think</text><text style=\"font-size: 100px; font-family: Impact; fill: rgb(107, 110, 207);\" text-anchor=\"middle\" transform=\"translate(-215,-99)rotate(-59.99999999999999)\">bernie</text><text style=\"font-size: 94px; font-family: Impact; fill: rgb(156, 158, 222);\" text-anchor=\"middle\" transform=\"translate(-6,19)rotate(-59.999999999999986)\">sanders</text><text style=\"font-size: 57px; font-family: Impact; fill: rgb(99, 121, 57);\" text-anchor=\"middle\" transform=\"translate(-278,-202)rotate(-29.999999999999993)\">endorses</text><text style=\"font-size: 40px; font-family: Impact; fill: rgb(140, 162, 82);\" text-anchor=\"middle\" transform=\"translate(-20,-119)rotate(-59.999999999999986)\">berniesanders</text><text style=\"font-size: 40px; font-family: Impact; fill: rgb(181, 207, 107);\" text-anchor=\"middle\" transform=\"translate(-90,25)rotate(-59.99999999999999)\">like</text><text style=\"font-size: 40px; font-family: Impact; fill: rgb(206, 219, 156);\" text-anchor=\"middle\" transform=\"translate(-186,5)rotate(59.99999999999999)\">president</text><text style=\"font-size: 40px; font-family: Impact; fill: rgb(140, 109, 49);\" text-anchor=\"middle\" transform=\"translate(183,15)rotate(0)\">lynch</text><text style=\"font-size: 40px; font-family: Impact; fill: rgb(189, 158, 57);\" text-anchor=\"middle\" transform=\"translate(-116,-87)rotate(29.999999999999996)\">vote</text><text style=\"font-size: 10px; font-family: Impact; fill: rgb(231, 186, 82);\" text-anchor=\"middle\" transform=\"translate(-31,101)rotate(29.999999999999996)\">people</text><text style=\"font-size: 10px; font-family: Impact; fill: rgb(231, 203, 148);\" text-anchor=\"middle\" transform=\"translate(-47,-139)rotate(0)\">fbi</text><text style=\"font-size: 10px; font-family: Impact; fill: rgb(132, 60, 57);\" text-anchor=\"middle\" transform=\"translate(-107,-49)\">know</text><text style=\"font-size: 10px; font-family: Impact; fill: rgb(173, 73, 74);\" text-anchor=\"middle\" transform=\"translate(-140,-48)rotate(-29.999999999999996)\">supporters</text><text style=\"font-size: 10px; font-family: Impact; fill: rgb(214, 97, 107);\" text-anchor=\"middle\" transform=\"translate(134,72)rotate(-59.99999999999999)\">endorsement</text><text style=\"font-size: 10px; font-family: Impact; fill: rgb(231, 150, 156);\" text-anchor=\"middle\" transform=\"translate(-124,-24)rotate(59.99999999999999)\">demoratic</text><text style=\"font-size: 10px; font-family: Impact; fill: rgb(123, 65, 115);\" text-anchor=\"middle\" transform=\"translate(85,-103)rotate(-29.999999999999996)\">voting</text><text style=\"font-size: 10px; font-family: Impact; fill: rgb(165, 81, 148);\" text-anchor=\"middle\" transform=\"translate(43,-17)rotate(0)\">endorsed</text><text style=\"font-size: 10px; font-family: Impact; fill: rgb(206, 109, 189);\" text-anchor=\"middle\" transform=\"translate(221,52)rotate(0)\">endorsing</text><text style=\"font-size: 10px; font-family: Impact; fill: rgb(222, 158, 214);\" text-anchor=\"middle\" transform=\"translate(225,-61)rotate(-29.999999999999996)\">email</text><text style=\"font-size: 10px; font-family: Impact; fill: rgb(57, 59, 121);\" text-anchor=\"middle\" transform=\"translate(221,69)rotate(29.999999999999996)\">support</text></g></svg>"
      ],
      "text/plain": [
       "<IPython.core.display.SVG object>"
      ]
     },
     "execution_count": 4,
     "metadata": {},
     "output_type": "execute_result"
    }
   ],
   "source": [
    "SVG(filename='clintonwordcloud.svg') "
   ]
  },
  {
   "cell_type": "markdown",
   "metadata": {},
   "source": [
    "Bernie Sanders had just endorsed Clinton around this time."
   ]
  },
  {
   "cell_type": "markdown",
   "metadata": {},
   "source": [
    "### Words that co-occurred most frequently with Trump:"
   ]
  },
  {
   "cell_type": "code",
   "execution_count": 5,
   "metadata": {
    "collapsed": false
   },
   "outputs": [
    {
     "data": {
      "image/svg+xml": [
       "<svg height=\"600\" version=\"1.1\" width=\"960\" xmlns=\"http://www.w3.org/2000/svg\"><g/><g transform=\"translate(480,300)scale(1.3407821655273438,1.3407821655273438)\"><text style=\"font-size: 10px; font-family: Impact; fill: rgb(206, 109, 189);\" text-anchor=\"middle\" transform=\"translate(97,144)rotate(29.999999999999996)\">think</text><text style=\"font-size: 10px; font-family: Impact; fill: rgb(107, 110, 207);\" text-anchor=\"middle\" transform=\"translate(-81,110)rotate(-29.999999999999993)\">bernie</text><text style=\"font-size: 66px; font-family: Impact; fill: rgb(181, 207, 107);\" text-anchor=\"middle\" transform=\"translate(66,-10)rotate(29.999999999999996)\">like</text><text style=\"font-size: 10px; font-family: Impact; fill: rgb(206, 219, 156);\" text-anchor=\"middle\" transform=\"translate(-23,73)rotate(-59.99999999999999)\">president</text><text style=\"font-size: 66px; font-family: Impact; fill: rgb(189, 158, 57);\" text-anchor=\"middle\" transform=\"translate(-83,80)rotate(-59.99999999999999)\">vote</text><text style=\"font-size: 10px; font-family: Impact; fill: rgb(231, 186, 82);\" text-anchor=\"middle\" transform=\"translate(-139,59)rotate(0)\">people</text><text style=\"font-size: 10px; font-family: Impact; fill: rgb(57, 59, 121);\" text-anchor=\"middle\" transform=\"translate(151,-94)rotate(29.999999999999996)\">support</text><text style=\"font-size: 100px; font-family: Impact; fill: rgb(82, 84, 163);\" text-anchor=\"middle\" transform=\"translate(-63,-60)rotate(0)\">vp</text><text style=\"font-size: 66px; font-family: Impact; fill: rgb(107, 110, 207);\" text-anchor=\"middle\" transform=\"translate(111,-118)rotate(-29.999999999999993)\">ginsburg</text><text style=\"font-size: 66px; font-family: Impact; fill: rgb(156, 158, 222);\" text-anchor=\"middle\" transform=\"translate(123,92)rotate(59.99999999999999)\">gop</text><text style=\"font-size: 66px; font-family: Impact; fill: rgb(99, 121, 57);\" text-anchor=\"middle\" transform=\"translate(246,59)rotate(0)\">pence</text><text style=\"font-size: 10px; font-family: Impact; fill: rgb(140, 162, 82);\" text-anchor=\"middle\" transform=\"translate(228,-75)rotate(0)\">gingrich</text><text style=\"font-size: 10px; font-family: Impact; fill: rgb(181, 207, 107);\" text-anchor=\"middle\" transform=\"translate(-84,-43)rotate(-59.99999999999999)\">news</text><text style=\"font-size: 10px; font-family: Impact; fill: rgb(206, 219, 156);\" text-anchor=\"middle\" transform=\"translate(-77,-34)rotate(59.99999999999999)\">ruth</text><text style=\"font-size: 10px; font-family: Impact; fill: rgb(140, 109, 49);\" text-anchor=\"middle\" transform=\"translate(120,-76)rotate(-29.999999999999996)\">bader</text><text style=\"font-size: 10px; font-family: Impact; fill: rgb(189, 158, 57);\" text-anchor=\"middle\" transform=\"translate(-204,-69)rotate(59.99999999999999)\">convention</text><text style=\"font-size: 10px; font-family: Impact; fill: rgb(231, 186, 82);\" text-anchor=\"middle\" transform=\"translate(93,119)rotate(29.999999999999996)\">republican</text><text style=\"font-size: 10px; font-family: Impact; fill: rgb(231, 203, 148);\" text-anchor=\"middle\" transform=\"translate(-56,62)rotate(-29.999999999999993)\">ryan</text><text style=\"font-size: 10px; font-family: Impact; fill: rgb(132, 60, 57);\" text-anchor=\"middle\" transform=\"translate(193,117)rotate(-59.999999999999986)\">newt</text><text style=\"font-size: 10px; font-family: Impact; fill: rgb(173, 73, 74);\" text-anchor=\"middle\" transform=\"translate(-86,146)rotate(29.999999999999996)\">wall</text></g></svg>"
      ],
      "text/plain": [
       "<IPython.core.display.SVG object>"
      ]
     },
     "execution_count": 5,
     "metadata": {},
     "output_type": "execute_result"
    }
   ],
   "source": [
    "SVG(filename='trumpwordcloud.svg') "
   ]
  },
  {
   "cell_type": "markdown",
   "metadata": {
    "collapsed": true
   },
   "source": [
    "During this period, Trump had recently declared Pence as his running mate. People were also talking about a spat between Trump and Ruth Bader Ginsburg.\n",
    "\n",
    "For Part 2- sentiment analysis of the tweets."
   ]
  }
 ],
 "metadata": {
  "anaconda-cloud": {},
  "kernelspec": {
   "display_name": "Python [py35]",
   "language": "python",
   "name": "Python [py35]"
  },
  "language_info": {
   "codemirror_mode": {
    "name": "ipython",
    "version": 3
   },
   "file_extension": ".py",
   "mimetype": "text/x-python",
   "name": "python",
   "nbconvert_exporter": "python",
   "pygments_lexer": "ipython3",
   "version": "3.5.2"
  }
 },
 "nbformat": 4,
 "nbformat_minor": 0
}
