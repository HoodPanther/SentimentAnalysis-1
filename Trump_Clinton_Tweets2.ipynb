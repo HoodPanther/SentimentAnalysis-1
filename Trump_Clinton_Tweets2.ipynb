{
 "cells": [
  {
   "cell_type": "markdown",
   "metadata": {},
   "source": [
    "## Sentiment Analysis of Tweets about Trump and Clinton- Part 2  \n",
    "In part 1 I did cleanup and exploratory analysis of tweets about Trump and Clinton (collected in July of 2016). Here in part 2 I'll perform sentiment analysis of the tweets."
   ]
  },
  {
   "cell_type": "code",
   "execution_count": 1,
   "metadata": {
    "collapsed": false
   },
   "outputs": [
    {
     "name": "stderr",
     "output_type": "stream",
     "text": [
      "/Users/jkim/anaconda/envs/py35/lib/python3.5/site-packages/IPython/html.py:14: ShimWarning: The `IPython.html` package has been deprecated. You should import from `notebook` instead. `IPython.html.widgets` has moved to `ipywidgets`.\n",
      "  \"`IPython.html.widgets` has moved to `ipywidgets`.\", ShimWarning)\n"
     ]
    }
   ],
   "source": [
    "%matplotlib inline \n",
    "import seaborn as sns\n",
    "import matplotlib.pyplot as plt\n",
    "import plotly.plotly as py\n",
    "import plotly.tools as tls\n",
    "from ggplot import *\n",
    "\n",
    "import pandas as pd\n",
    "import numpy as np\n",
    "import nltk\n",
    "from nltk import word_tokenize\n",
    "from sklearn.model_selection import train_test_split\n",
    "from nltk.classify.scikitlearn import SklearnClassifier\n",
    "from sklearn.naive_bayes import MultinomialNB, BernoulliNB\n",
    "from sklearn.linear_model import LogisticRegression\n",
    "from sklearn.svm import LinearSVC\n",
    "import sys\n",
    "sys.path.append('../MLRecipes')\n",
    "import ml_helper as mlhelp\n",
    "import pickle\n",
    "import random\n",
    "import warnings\n",
    "warnings.filterwarnings(\"ignore\")"
   ]
  },
  {
   "cell_type": "code",
   "execution_count": 2,
   "metadata": {
    "collapsed": true
   },
   "outputs": [],
   "source": [
    "def find_features(words):\n",
    "    \"\"\"Takes as input a list of tokenized words and outputs features\"\"\"\n",
    "    features = {}\n",
    "    for w in word_features:\n",
    "        features[w] = (w in words) # the dict has the word as key and boolean as value\n",
    "    return features\n",
    "\n",
    "def classify_list(classifier, token_list):\n",
    "    \"\"\"Get predicted label from classifier\"\"\"\n",
    "    values = []\n",
    "    for nested_list in token_list:\n",
    "        value = classifier.classify(find_features(nested_list))\n",
    "        values.append(value)\n",
    "    return values"
   ]
  },
  {
   "cell_type": "markdown",
   "metadata": {},
   "source": [
    "#### The data"
   ]
  },
  {
   "cell_type": "code",
   "execution_count": 3,
   "metadata": {
    "collapsed": false
   },
   "outputs": [
    {
     "data": {
      "text/html": [
       "<div>\n",
       "<table border=\"1\" class=\"dataframe\">\n",
       "  <thead>\n",
       "    <tr style=\"text-align: right;\">\n",
       "      <th></th>\n",
       "      <th>lang</th>\n",
       "      <th>text</th>\n",
       "      <th>trump</th>\n",
       "      <th>hillary</th>\n",
       "      <th>clinton</th>\n",
       "      <th>donaldtrump</th>\n",
       "      <th>hillaryclinton</th>\n",
       "      <th>bill</th>\n",
       "      <th>just_trump</th>\n",
       "      <th>just_clinton</th>\n",
       "      <th>just_hillary</th>\n",
       "      <th>Any_Clinton</th>\n",
       "      <th>Any_Clinton_no_bill</th>\n",
       "      <th>Any_Trump</th>\n",
       "      <th>tweet_tokens</th>\n",
       "      <th>just_trump_tokens</th>\n",
       "      <th>just_clinton_tokens</th>\n",
       "      <th>lower_tweet_tokens</th>\n",
       "      <th>lower_trump_tokens</th>\n",
       "      <th>lower_clinton_tokens</th>\n",
       "    </tr>\n",
       "  </thead>\n",
       "  <tbody>\n",
       "    <tr>\n",
       "      <th>0</th>\n",
       "      <td>en</td>\n",
       "      <td>PROTEST WITH YOUR VOTE ITs TRUMP OR NEVER THE ...</td>\n",
       "      <td>True</td>\n",
       "      <td>False</td>\n",
       "      <td>False</td>\n",
       "      <td>False</td>\n",
       "      <td>False</td>\n",
       "      <td>False</td>\n",
       "      <td>True</td>\n",
       "      <td>False</td>\n",
       "      <td>False</td>\n",
       "      <td>False</td>\n",
       "      <td>False</td>\n",
       "      <td>True</td>\n",
       "      <td>[PROTEST, WITH, YOUR, VOTE, ITs, TRUMP, OR, NE...</td>\n",
       "      <td>[PROTEST, WITH, YOUR, VOTE, ITs, TRUMP, OR, NE...</td>\n",
       "      <td></td>\n",
       "      <td>[protest, with, your, vote, its, trump, or, ne...</td>\n",
       "      <td>[protest, with, your, vote, its, trump, or, ne...</td>\n",
       "      <td>[]</td>\n",
       "    </tr>\n",
       "    <tr>\n",
       "      <th>1</th>\n",
       "      <td>pt</td>\n",
       "      <td>@lanadynamite ata mas trump não</td>\n",
       "      <td>True</td>\n",
       "      <td>False</td>\n",
       "      <td>False</td>\n",
       "      <td>False</td>\n",
       "      <td>False</td>\n",
       "      <td>False</td>\n",
       "      <td>True</td>\n",
       "      <td>False</td>\n",
       "      <td>False</td>\n",
       "      <td>False</td>\n",
       "      <td>False</td>\n",
       "      <td>True</td>\n",
       "      <td>[@lanadynamite, ata, mas, trump, não]</td>\n",
       "      <td></td>\n",
       "      <td></td>\n",
       "      <td>[@lanadynamite, ata, mas, trump, não]</td>\n",
       "      <td>[]</td>\n",
       "      <td>[]</td>\n",
       "    </tr>\n",
       "    <tr>\n",
       "      <th>2</th>\n",
       "      <td>pt</td>\n",
       "      <td>Republicanos entram com pedido formal para nov...</td>\n",
       "      <td>False</td>\n",
       "      <td>True</td>\n",
       "      <td>False</td>\n",
       "      <td>False</td>\n",
       "      <td>False</td>\n",
       "      <td>False</td>\n",
       "      <td>False</td>\n",
       "      <td>False</td>\n",
       "      <td>True</td>\n",
       "      <td>True</td>\n",
       "      <td>True</td>\n",
       "      <td>False</td>\n",
       "      <td>[Republicanos, entram, com, pedido, formal, pa...</td>\n",
       "      <td></td>\n",
       "      <td></td>\n",
       "      <td>[republicanos, entram, com, pedido, formal, pa...</td>\n",
       "      <td>[]</td>\n",
       "      <td>[]</td>\n",
       "    </tr>\n",
       "    <tr>\n",
       "      <th>3</th>\n",
       "      <td>en</td>\n",
       "      <td>@CassandraRules @Iteration23 They should be fa...</td>\n",
       "      <td>True</td>\n",
       "      <td>False</td>\n",
       "      <td>False</td>\n",
       "      <td>False</td>\n",
       "      <td>False</td>\n",
       "      <td>False</td>\n",
       "      <td>True</td>\n",
       "      <td>False</td>\n",
       "      <td>False</td>\n",
       "      <td>False</td>\n",
       "      <td>False</td>\n",
       "      <td>True</td>\n",
       "      <td>[@CassandraRules, @Iteration23, They, should, ...</td>\n",
       "      <td>[@CassandraRules, @Iteration23, They, should, ...</td>\n",
       "      <td></td>\n",
       "      <td>[@cassandrarules, @iteration23, they, should, ...</td>\n",
       "      <td>[@cassandrarules, @iteration23, they, should, ...</td>\n",
       "      <td>[]</td>\n",
       "    </tr>\n",
       "    <tr>\n",
       "      <th>4</th>\n",
       "      <td>en</td>\n",
       "      <td>Donald Trump bought US$120,000 trip and dinner...</td>\n",
       "      <td>True</td>\n",
       "      <td>False</td>\n",
       "      <td>False</td>\n",
       "      <td>False</td>\n",
       "      <td>False</td>\n",
       "      <td>False</td>\n",
       "      <td>True</td>\n",
       "      <td>False</td>\n",
       "      <td>False</td>\n",
       "      <td>False</td>\n",
       "      <td>False</td>\n",
       "      <td>True</td>\n",
       "      <td>[Donald, Trump, bought, US, $, 120,000, trip, ...</td>\n",
       "      <td>[Donald, Trump, bought, US, $, 120,000, trip, ...</td>\n",
       "      <td></td>\n",
       "      <td>[donald, trump, bought, us, $, 120,000, trip, ...</td>\n",
       "      <td>[donald, trump, bought, us, $, 120,000, trip, ...</td>\n",
       "      <td>[]</td>\n",
       "    </tr>\n",
       "  </tbody>\n",
       "</table>\n",
       "</div>"
      ],
      "text/plain": [
       "  lang                                               text  trump hillary  \\\n",
       "0   en  PROTEST WITH YOUR VOTE ITs TRUMP OR NEVER THE ...   True   False   \n",
       "1   pt                    @lanadynamite ata mas trump não   True   False   \n",
       "2   pt  Republicanos entram com pedido formal para nov...  False    True   \n",
       "3   en  @CassandraRules @Iteration23 They should be fa...   True   False   \n",
       "4   en  Donald Trump bought US$120,000 trip and dinner...   True   False   \n",
       "\n",
       "  clinton donaldtrump hillaryclinton   bill just_trump just_clinton  \\\n",
       "0   False       False          False  False       True        False   \n",
       "1   False       False          False  False       True        False   \n",
       "2   False       False          False  False      False        False   \n",
       "3   False       False          False  False       True        False   \n",
       "4   False       False          False  False       True        False   \n",
       "\n",
       "  just_hillary Any_Clinton Any_Clinton_no_bill Any_Trump  \\\n",
       "0        False       False               False      True   \n",
       "1        False       False               False      True   \n",
       "2         True        True                True     False   \n",
       "3        False       False               False      True   \n",
       "4        False       False               False      True   \n",
       "\n",
       "                                        tweet_tokens  \\\n",
       "0  [PROTEST, WITH, YOUR, VOTE, ITs, TRUMP, OR, NE...   \n",
       "1              [@lanadynamite, ata, mas, trump, não]   \n",
       "2  [Republicanos, entram, com, pedido, formal, pa...   \n",
       "3  [@CassandraRules, @Iteration23, They, should, ...   \n",
       "4  [Donald, Trump, bought, US, $, 120,000, trip, ...   \n",
       "\n",
       "                                   just_trump_tokens just_clinton_tokens  \\\n",
       "0  [PROTEST, WITH, YOUR, VOTE, ITs, TRUMP, OR, NE...                       \n",
       "1                                                                          \n",
       "2                                                                          \n",
       "3  [@CassandraRules, @Iteration23, They, should, ...                       \n",
       "4  [Donald, Trump, bought, US, $, 120,000, trip, ...                       \n",
       "\n",
       "                                  lower_tweet_tokens  \\\n",
       "0  [protest, with, your, vote, its, trump, or, ne...   \n",
       "1              [@lanadynamite, ata, mas, trump, não]   \n",
       "2  [republicanos, entram, com, pedido, formal, pa...   \n",
       "3  [@cassandrarules, @iteration23, they, should, ...   \n",
       "4  [donald, trump, bought, us, $, 120,000, trip, ...   \n",
       "\n",
       "                                  lower_trump_tokens lower_clinton_tokens  \n",
       "0  [protest, with, your, vote, its, trump, or, ne...                   []  \n",
       "1                                                 []                   []  \n",
       "2                                                 []                   []  \n",
       "3  [@cassandrarules, @iteration23, they, should, ...                   []  \n",
       "4  [donald, trump, bought, us, $, 120,000, trip, ...                   []  "
      ]
     },
     "execution_count": 3,
     "metadata": {},
     "output_type": "execute_result"
    }
   ],
   "source": [
    "originals_df = open(\"originals.pickle\", \"rb\")\n",
    "originals = pickle.load(originals_df)\n",
    "originals_df.close()\n",
    "\n",
    "originals.head()"
   ]
  },
  {
   "cell_type": "markdown",
   "metadata": {},
   "source": [
    "#### Training and testing "
   ]
  },
  {
   "cell_type": "markdown",
   "metadata": {},
   "source": [
    "Note: I did not have labeled tweets for this project, but I did find a collection of short movie reviews that had been labeled as negative or positive. I will use these to train my model; this is far from perfect since tweets are probably really different from short movie reviews, but it's better than nothing. "
   ]
  },
  {
   "cell_type": "code",
   "execution_count": 4,
   "metadata": {
    "collapsed": true
   },
   "outputs": [],
   "source": [
    "# The short positive and negative review samples\n",
    "short_pos = open(\"short_reviews_from_pyprognet/positive.txt\",\"r\").read()\n",
    "short_neg = open(\"short_reviews_from_pyprognet/negative.txt\",\"r\").read()"
   ]
  },
  {
   "cell_type": "code",
   "execution_count": 5,
   "metadata": {
    "collapsed": true
   },
   "outputs": [],
   "source": [
    "# Prep the reviews\n",
    "documents = []\n",
    "\n",
    "for r in short_pos.split('\\n'):\n",
    "    documents.append( (r, \"pos\") )\n",
    "for r in short_neg.split('\\n'):\n",
    "    documents.append( (r, \"neg\") )\n",
    "\n",
    "all_words = []\n",
    "short_pos_words = word_tokenize(short_pos)\n",
    "short_neg_words = word_tokenize(short_neg)\n",
    "\n",
    "for w in short_pos_words:\n",
    "    all_words.append(w.lower())\n",
    "for w in short_neg_words:\n",
    "    all_words.append(w.lower())\n",
    "\n",
    "# This will be the words and their frequencies\n",
    "all_words = nltk.FreqDist(all_words) \n",
    "\n",
    "# Get the first 5000 words from all_words\n",
    "word_features = list(all_words.keys())[:5000]\n",
    "\n",
    "# Save the feature existence booleans and their respective pos or neg categories. Example: (words, pos) -> ({words: True}, pos)\n",
    "featuresets = [(find_features(rev), category) for (rev, category) in documents]\n",
    "\n",
    "# Shuffle in place:\n",
    "random.shuffle(featuresets)\n",
    "\n",
    "# This data set has ~10600+ features\n",
    "training_set = featuresets[:10000]\n",
    "testing_set = featuresets[10000:]"
   ]
  },
  {
   "cell_type": "markdown",
   "metadata": {},
   "source": [
    "#### Testing a few algorithms\n",
    "Trying a few different implementations of Naive Bayes."
   ]
  },
  {
   "cell_type": "code",
   "execution_count": 6,
   "metadata": {
    "collapsed": false
   },
   "outputs": [
    {
     "data": {
      "text/plain": [
       "<SklearnClassifier(BernoulliNB(alpha=1.0, binarize=0.0, class_prior=None, fit_prior=True))>"
      ]
     },
     "execution_count": 6,
     "metadata": {},
     "output_type": "execute_result"
    }
   ],
   "source": [
    "classifier = nltk.NaiveBayesClassifier.train(training_set)\n",
    "\n",
    "MNB_classifier = SklearnClassifier(MultinomialNB())\n",
    "MNB_classifier.train(training_set)\n",
    "\n",
    "BNB_classifier = SklearnClassifier(BernoulliNB())\n",
    "BNB_classifier.train(training_set)"
   ]
  },
  {
   "cell_type": "markdown",
   "metadata": {},
   "source": [
    "I'll also try logistic regression and SVM."
   ]
  },
  {
   "cell_type": "code",
   "execution_count": 7,
   "metadata": {
    "collapsed": false
   },
   "outputs": [
    {
     "data": {
      "text/plain": [
       "<SklearnClassifier(LogisticRegression(C=1.0, class_weight=None, dual=False, fit_intercept=True,\n",
       "          intercept_scaling=1, max_iter=100, multi_class='ovr', n_jobs=1,\n",
       "          penalty='l2', random_state=None, solver='liblinear', tol=0.0001,\n",
       "          verbose=0, warm_start=False))>"
      ]
     },
     "execution_count": 7,
     "metadata": {},
     "output_type": "execute_result"
    }
   ],
   "source": [
    "LR_classifier = SklearnClassifier(LinearSVC())\n",
    "LR_classifier.train(training_set)\n",
    "\n",
    "SVM_classifier = SklearnClassifier(LogisticRegression())\n",
    "SVM_classifier.train(training_set)"
   ]
  },
  {
   "cell_type": "markdown",
   "metadata": {},
   "source": [
    "The accuracies were similar for the different models:"
   ]
  },
  {
   "cell_type": "code",
   "execution_count": 50,
   "metadata": {
    "collapsed": false
   },
   "outputs": [
    {
     "name": "stdout",
     "output_type": "stream",
     "text": [
      "NLTK Naive Bayes algorithm accuracy percent:  67.37160120845923\n",
      "Multinomial Naive Bayes accuracy percent: 68.42900302114803\n",
      "Bernoulli Naive Bayes accuracy percent: 67.97583081570997\n",
      "Logistic Regression accuracy percent: 65.25679758308158\n",
      "SVM accuracy percent: 67.97583081570997\n"
     ]
    }
   ],
   "source": [
    "print(\"NLTK Naive Bayes algorithm accuracy percent: \", (nltk.classify.accuracy(classifier, testing_set))*100)\n",
    "print(\"Multinomial Naive Bayes accuracy percent:\",(nltk.classify.accuracy(MNB_classifier, testing_set))*100)\n",
    "print(\"Bernoulli Naive Bayes accuracy percent:\",(nltk.classify.accuracy(BNB_classifier, testing_set))*100)\n",
    "print(\"Logistic Regression accuracy percent:\",(nltk.classify.accuracy(LR_classifier, testing_set))*100)\n",
    "print(\"SVM accuracy percent:\",(nltk.classify.accuracy(SVM_classifier, testing_set))*100)"
   ]
  },
  {
   "cell_type": "markdown",
   "metadata": {},
   "source": [
    "#### Most informative features \n",
    "A glance at which words were most informative:"
   ]
  },
  {
   "cell_type": "code",
   "execution_count": 51,
   "metadata": {
    "collapsed": false
   },
   "outputs": [
    {
     "name": "stdout",
     "output_type": "stream",
     "text": [
      "Most Informative Features\n",
      "               wonderful = True              pos : neg    =     18.0 : 1.0\n",
      "                intimate = True              pos : neg    =     15.5 : 1.0\n",
      "                   guise = True              neg : pos    =     12.5 : 1.0\n",
      "              heartbreak = True              pos : neg    =     11.5 : 1.0\n",
      "                provides = True              pos : neg    =     11.3 : 1.0\n",
      "                   inept = True              neg : pos    =     11.1 : 1.0\n",
      "                mindless = True              neg : pos    =     11.1 : 1.0\n",
      "                   banal = True              neg : pos    =     11.1 : 1.0\n",
      "                   knock = True              neg : pos    =     10.4 : 1.0\n",
      "                   flaws = True              pos : neg    =      9.3 : 1.0\n",
      "                  flawed = True              pos : neg    =      9.3 : 1.0\n",
      "              meandering = True              neg : pos    =      9.1 : 1.0\n",
      "                 iranian = True              pos : neg    =      8.9 : 1.0\n",
      "                touching = True              pos : neg    =      8.5 : 1.0\n",
      "                   mixed = True              neg : pos    =      8.4 : 1.0\n"
     ]
    }
   ],
   "source": [
    "classifier.show_most_informative_features(15)"
   ]
  },
  {
   "cell_type": "markdown",
   "metadata": {},
   "source": [
    "#### Classify tweets"
   ]
  },
  {
   "cell_type": "code",
   "execution_count": 65,
   "metadata": {
    "collapsed": false
   },
   "outputs": [],
   "source": [
    "# Prep the list of tokens\n",
    "trump_tokens_list = originals['lower_trump_tokens'].tolist()\n",
    "clinton_tokens_list = originals['lower_clinton_tokens'].tolist()\n",
    "\n",
    "# Getting rid of empty lists\n",
    "trump_list = [x for x in trump_tokens_list if x !=[]]\n",
    "clinton_list = [x for x in clinton_tokens_list if x !=[]]\n",
    "\n",
    "# I'm just going to classify 500 tweets for each candidate \n",
    "# mostly because I don't want to wait forever\n",
    "trump = trump_list[0:500]\n",
    "clinton = clinton_list[0:500]"
   ]
  },
  {
   "cell_type": "code",
   "execution_count": 66,
   "metadata": {
    "collapsed": false
   },
   "outputs": [],
   "source": [
    "MNB_trump_vals = classify_list(MNB_classifier, trump)\n",
    "MNB_clinton_vals = classify_list(MNB_classifier, clinton)\n",
    "\n",
    "BNB_trump_vals = classify_list(BNB_classifier, trump)\n",
    "BNB_clinton_vals = classify_list(BNB_classifier, clinton)\n",
    "\n",
    "LR_trump_vals = classify_list(LR_classifier, trump)\n",
    "LR_clinton_vals = classify_list(LR_classifier, clinton)\n",
    "\n",
    "SVM_trump_vals = classify_list(SVM_classifier, trump)\n",
    "SVM_clinton_vals = classify_list(SVM_classifier, clinton)"
   ]
  },
  {
   "cell_type": "code",
   "execution_count": 72,
   "metadata": {
    "collapsed": true
   },
   "outputs": [],
   "source": [
    "all_trump_pos = pd.Series((MNB_trump_vals.count('pos'), BNB_trump_vals.count('pos'),\n",
    "                            LR_trump_vals.count('pos'), SVM_trump_vals.count('pos')))\n",
    "\n",
    "all_trump_neg = pd.Series((MNB_trump_vals.count('neg'), BNB_trump_vals.count('neg'),\n",
    "                            LR_trump_vals.count('neg'), SVM_trump_vals.count('neg')))\n",
    "\n",
    "all_clinton_pos = pd.Series((MNB_clinton_vals.count('pos'), BNB_clinton_vals.count('pos'),\n",
    "                            LR_clinton_vals.count('pos'), SVM_clinton_vals.count('pos')))\n",
    "\n",
    "all_clinton_neg = pd.Series((MNB_clinton_vals.count('neg'), BNB_clinton_vals.count('neg'),\n",
    "                            LR_clinton_vals.count('neg'), SVM_clinton_vals.count('neg')))"
   ]
  },
  {
   "cell_type": "markdown",
   "metadata": {},
   "source": [
    "#### Tweets about Trump"
   ]
  },
  {
   "cell_type": "code",
   "execution_count": 73,
   "metadata": {
    "collapsed": false,
    "scrolled": true
   },
   "outputs": [
    {
     "data": {
      "text/plain": [
       "<matplotlib.legend.Legend at 0x12da8ab00>"
      ]
     },
     "execution_count": 73,
     "metadata": {},
     "output_type": "execute_result"
    },
    {
     "data": {
      "image/png": "[encoded data removed]",
      "text/plain": [
       "<matplotlib.figure.Figure at 0x12e22ff28>"
      ]
     },
     "metadata": {},
     "output_type": "display_data"
    }
   ],
   "source": [
    "multiple_bars=plt.figure()\n",
    "x=['MultNaiveBayes', 'BernNaiveBayes', 'LogisticReg', 'SVM']\n",
    "ind=np.arange(len(x))\n",
    "pos = all_trump_pos\n",
    "neg = all_trump_neg\n",
    "\n",
    "ax.set_title(\"Trump's Positive and Negative Tweets\")\n",
    "ax=plt.subplot(111)\n",
    "ax.bar(ind-.2, pos, width=.2, color='g', align='center', label='Pos')\n",
    "ax.bar(ind, neg, width=.2, color='r', align='center', label='Neg')\n",
    "\n",
    "ax.set_xticks(ind)\n",
    "ax.set_xticklabels(x)\n",
    "ax.set_ylabel('Number of Tweets')\n",
    "ax.set_xlabel('Model')\n",
    "ax.legend(loc='best')"
   ]
  },
  {
   "cell_type": "code",
   "execution_count": 86,
   "metadata": {
    "collapsed": false
   },
   "outputs": [
    {
     "name": "stdout",
     "output_type": "stream",
     "text": [
      "Percent negative MNB classifier: 50.0\n",
      "Percent negative BNB classifier: 90.0\n",
      "Percent negative LR classifier: 66.2\n",
      "Percent negative SVM classifier: 74.4\n"
     ]
    }
   ],
   "source": [
    "print(\"Percent negative MNB classifier:\",(MNB_trump_vals.count('neg')/len(MNB_trump_vals)*100))\n",
    "print(\"Percent negative BNB classifier:\",(BNB_trump_vals.count('neg')/len(BNB_trump_vals)*100))\n",
    "print(\"Percent negative LR classifier:\",(LR_trump_vals.count('neg')/len(LR_trump_vals)*100))\n",
    "print(\"Percent negative SVM classifier:\",(SVM_trump_vals.count('neg')/len(SVM_trump_vals)*100))"
   ]
  },
  {
   "cell_type": "markdown",
   "metadata": {},
   "source": [
    "#### Tweets about Clinton"
   ]
  },
  {
   "cell_type": "code",
   "execution_count": 74,
   "metadata": {
    "collapsed": false
   },
   "outputs": [
    {
     "data": {
      "text/plain": [
       "<matplotlib.legend.Legend at 0x12dabc898>"
      ]
     },
     "execution_count": 74,
     "metadata": {},
     "output_type": "execute_result"
    },
    {
     "data": {
      "image/png": "[encoded data removed]",
      "text/plain": [
       "<matplotlib.figure.Figure at 0x12e41feb8>"
      ]
     },
     "metadata": {},
     "output_type": "display_data"
    }
   ],
   "source": [
    "multiple_bars=plt.figure()\n",
    "x=['MultNaiveBayes', 'BernNaiveBayes', 'LogisticReg', 'SVM']\n",
    "ind=np.arange(len(x))\n",
    "pos = all_clinton_pos\n",
    "neg = all_clinton_neg\n",
    "\n",
    "ax.set_title(\"Clinton's Positive and Negative Tweets\")\n",
    "ax=plt.subplot(111)\n",
    "ax.bar(ind-.2, pos, width=.2, color='g', align='center', label='Pos')\n",
    "ax.bar(ind, neg, width=.2, color='r', align='center', label='Neg')\n",
    "\n",
    "ax.set_xticks(ind)\n",
    "ax.set_xticklabels(x)\n",
    "ax.set_ylabel('Number of Tweets')\n",
    "ax.set_xlabel('Model')\n",
    "ax.legend(loc='best')"
   ]
  },
  {
   "cell_type": "code",
   "execution_count": 88,
   "metadata": {
    "collapsed": false
   },
   "outputs": [
    {
     "name": "stdout",
     "output_type": "stream",
     "text": [
      "Percent negative MNB classifier: 43.2\n",
      "Percent negative BNB classifier: 94.19999999999999\n",
      "Percent negative LR classifier: 69.8\n",
      "Percent negative SVM classifier: 75.0\n"
     ]
    }
   ],
   "source": [
    "print(\"Percent negative MNB classifier:\",(MNB_clinton_vals.count('neg')/len(MNB_clinton_vals)*100))\n",
    "print(\"Percent negative BNB classifier:\",(BNB_clinton_vals.count('neg')/len(BNB_clinton_vals)*100))\n",
    "print(\"Percent negative LR classifier:\",(LR_clinton_vals.count('neg')/len(LR_clinton_vals)*100))\n",
    "print(\"Percent negative SVM classifier:\",(SVM_clinton_vals.count('neg')/len(SVM_clinton_vals)*100))"
   ]
  },
  {
   "cell_type": "markdown",
   "metadata": {},
   "source": [
    "The tweets were overwhelmingly classified as negative for both candidates. Of course these classifiers are not great for tweets, because they were trained on short movie reviews. In particular I'm guessing that movie reviews don't use as many acronyms as tweets. And I can also imagine that they're generally less sarcastic than tweets.\n",
    "\n",
    "If I were to try to improve on the classifier I'd get some tweets labeled, and also include more classes so that in addition to \"positive\" and \"negative\" I'd have \"neutral\" and maybe also \"sarcastic.\" I'd also explore whether emoticons were predictive of sentiment."
   ]
  }
 ],
 "metadata": {
  "anaconda-cloud": {},
  "kernelspec": {
   "display_name": "Python [py35]",
   "language": "python",
   "name": "Python [py35]"
  },
  "language_info": {
   "codemirror_mode": {
    "name": "ipython",
    "version": 3
   },
   "file_extension": ".py",
   "mimetype": "text/x-python",
   "name": "python",
   "nbconvert_exporter": "python",
   "pygments_lexer": "ipython3",
   "version": "3.5.2"
  }
 },
 "nbformat": 4,
 "nbformat_minor": 0
}
